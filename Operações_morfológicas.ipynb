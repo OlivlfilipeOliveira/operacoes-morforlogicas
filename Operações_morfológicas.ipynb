{
  "nbformat": 4,
  "nbformat_minor": 0,
  "metadata": {
    "colab": {
      "name": "Operações morfológicas.ipynb",
      "provenance": [],
      "collapsed_sections": [],
      "mount_file_id": "1Cfqa1tBW8CID0qK1aEVnURX5qN-qHVGJ",
      "authorship_tag": "ABX9TyOQQl4zG8DnK1IfKc/RTImn",
      "include_colab_link": true
    },
    "kernelspec": {
      "name": "python3",
      "display_name": "Python 3"
    },
    "language_info": {
      "name": "python"
    }
  },
  "cells": [
    {
      "cell_type": "markdown",
      "metadata": {
        "id": "view-in-github",
        "colab_type": "text"
      },
      "source": [
        "<a href=\"https://colab.research.google.com/github/OlivlfilipeOliveira/operacoes-morforlogicas/blob/main/Opera%C3%A7%C3%B5es_morfol%C3%B3gicas.ipynb\" target=\"_parent\"><img src=\"https://colab.research.google.com/assets/colab-badge.svg\" alt=\"Open In Colab\"/></a>"
      ]
    },
    {
      "cell_type": "markdown",
      "metadata": {
        "id": "czwC1t4vk-xa"
      },
      "source": [
        "# **Trabalho para a disciplina Processamento Digital de Imagens**\n",
        "\n",
        "**Nome:** Filipe da Silva Oliveira\n",
        "\n",
        "**Professora:** Tácito Neves\n",
        "\n",
        "**Curso:** Ciência da Computação\n",
        "\n",
        "**Disciplina:** Processamento Digital de Imagens\n",
        "\n",
        "**Período:** 2020.2\n"
      ]
    },
    {
      "cell_type": "markdown",
      "metadata": {
        "id": "0Vl4icUBlfUN"
      },
      "source": [
        "**Atividade:** Os alunos deverão implementar um código que permita a escolha de um elemento estruturante e receba uma imagem de entrada. A saída do\n",
        "algoritmo será o resultado da aplicação do elemento estruturante para\n",
        "as operações de morfologia: **dilatação**, **erosão**, **abertura** e **fechamento**."
      ]
    },
    {
      "cell_type": "markdown",
      "metadata": {
        "id": "RScSSbkEmTsJ"
      },
      "source": [
        " \n",
        "\n",
        "*   A ideia central do trabalho é conseguir aplicar as operações morfológicas a partir de uma imagem inserida com um elemento estruturante. Sendo assim, ao longo deste Notebook será possível observar a implementação e aplicação das 4 operações (dilatação, erosão, abertura e fechamento) bem como a ação de binarização e geração de contorno da imagem.\n",
        "*   **Implementação dos requisitos mínimos:** Primeiramente é lido a imagem do Google Drive, já em tom de cinza. Após a leitura da imagem é realizado a implementação e aplicação da binarização e geração de contornos. Seguindo tem-se, a implementação das operações morfológicas em um bloco de código com 4 funções.\n",
        "* **Para executar o código** basta abrir o colab normalmente, executr bloco por bloco ou completo (ctrl+f9). Caso não consiga montar o drive para encontrar a imagem ela pode ser encontrada no seguinte link: https://drive.google.com/file/d/1-F6Z46vfv7RNQC4w74-D_d21pBeJ1Nyg/view?usp=sharing \n",
        "\n"
      ]
    },
    {
      "cell_type": "markdown",
      "metadata": {
        "id": "bSmYUEz_xZxe"
      },
      "source": [
        "# **Importação de bibliotecas**"
      ]
    },
    {
      "cell_type": "code",
      "metadata": {
        "id": "yneJuRFzgTG5"
      },
      "source": [
        "import numpy as np #importando numpy\n",
        "import cv2 #importando openCV\n",
        "from google.colab.patches import cv2_imshow #importando pacote para mostrar imagens\n",
        "from skimage.measure import find_contours #inportando função que auxilia no encontro de contornos das imagens"
      ],
      "execution_count": 20,
      "outputs": []
    },
    {
      "cell_type": "code",
      "metadata": {
        "colab": {
          "base_uri": "https://localhost:8080/",
          "height": 157
        },
        "id": "WDsyNwmxgdeD",
        "outputId": "449ff5ac-dbe0-43dc-f7f0-8b40abbd9828"
      },
      "source": [
        "#lendo imagem já com tom de cinza\n",
        "original = cv2.cvtColor(cv2.imread('/content/drive/MyDrive/UFAL/ImagensPDI/google.jpg'), cv2.COLOR_RGBA2GRAY)\n",
        "cv2_imshow(original)\n",
        "\n"
      ],
      "execution_count": 21,
      "outputs": [
        {
          "output_type": "display_data",
          "data": {
            "image/png": "[encoded data removed]",
            "text/plain": [
              "<PIL.Image.Image image mode=L size=305x140 at 0x7FF686F3AFD0>"
            ]
          },
          "metadata": {}
        }
      ]
    },
    {
      "cell_type": "markdown",
      "metadata": {
        "id": "aD6bywm2vCpi"
      },
      "source": [
        "# **Implementando funções para binarização e obtenção de contorno da imagem**\n"
      ]
    },
    {
      "cell_type": "code",
      "metadata": {
        "id": "OtT22qkzpX9x"
      },
      "source": [
        "#Função de binarização da imagem\n",
        "def binarize(image):\n",
        "    t = 120\n",
        "    image_bin = image.copy() \n",
        "    \n",
        "    image_bin[image_bin > t] = 255\n",
        "    image_bin[image_bin <= t] = 0\n",
        "     \n",
        "    return image_bin\n",
        "\n",
        "#Função de gerar contornos na imagem\n",
        "def genarateImageContour(image):\n",
        "  contourImg = np.zeros(image.shape + (3, ), np.uint8)\n",
        "\n",
        "  contours = find_contours(image, 0)\n",
        "\n",
        "  for contour in contours:\n",
        "    contour = contour.astype(np.int).tolist()\n",
        "\n",
        "    #para gerar linhas de contorno\n",
        "    for idx, coords in enumerate(contour[:-1]):\n",
        "      y1, x1, y2, x2 = coords + contour[idx+1]\n",
        "      contourImg = cv2.line(contourImg, (x1, y1), (x2, y2), (0, 255, 0), 1)\n",
        "  \n",
        "  contourImg = contourImg[:,:,1]\n",
        "\n",
        "  return contourImg"
      ],
      "execution_count": 22,
      "outputs": []
    },
    {
      "cell_type": "markdown",
      "metadata": {
        "id": "gq9e8gZqxD75"
      },
      "source": [
        "# **Gerando variantes da imagem (contornada e binarizada)**"
      ]
    },
    {
      "cell_type": "code",
      "metadata": {
        "id": "ArTwfKwHrHRW",
        "colab": {
          "base_uri": "https://localhost:8080/",
          "height": 157
        },
        "outputId": "166ddbaf-be59-4978-e610-e50c95c08bb9"
      },
      "source": [
        "#Aplicando binarização\n",
        "imageBinary = binarize(original)\n",
        "\n",
        "cv2_imshow(imageBinary)"
      ],
      "execution_count": 23,
      "outputs": [
        {
          "output_type": "display_data",
          "data": {
            "image/png": "[encoded data removed]",
            "text/plain": [
              "<PIL.Image.Image image mode=L size=305x140 at 0x7FF6962A7790>"
            ]
          },
          "metadata": {}
        }
      ]
    },
    {
      "cell_type": "code",
      "metadata": {
        "id": "Di-WVUxjrHyq",
        "colab": {
          "base_uri": "https://localhost:8080/",
          "height": 157
        },
        "outputId": "20021317-8e5d-48c0-97c5-edb6738e65d5"
      },
      "source": [
        "#Gerando contornos\n",
        "imageContourn = genarateImageContour(imageBinary)\n",
        "cv2_imshow(imageContourn)"
      ],
      "execution_count": 24,
      "outputs": [
        {
          "output_type": "display_data",
          "data": {
            "image/png": "[encoded data removed]",
            "text/plain": [
              "<PIL.Image.Image image mode=L size=305x140 at 0x7FF686FEB950>"
            ]
          },
          "metadata": {}
        }
      ]
    },
    {
      "cell_type": "markdown",
      "metadata": {
        "id": "zV9Z3-dW-SqY"
      },
      "source": [
        "\n",
        "# **Escolhendo elemento estruturante**"
      ]
    },
    {
      "cell_type": "code",
      "metadata": {
        "colab": {
          "base_uri": "https://localhost:8080/"
        },
        "id": "XMjKXypO_B8v",
        "outputId": "18df2fbb-64e1-49a4-f0e2-b97c645b95f9"
      },
      "source": [
        "#Escolhendo elemento estruturante a partir da biblioteca opencv\n",
        "structure_element = cv2.getStructuringElement(cv2.MORPH_ELLIPSE, (15,15))\n",
        "structure_element"
      ],
      "execution_count": 25,
      "outputs": [
        {
          "output_type": "execute_result",
          "data": {
            "text/plain": [
              "array([[0, 0, 0, 0, 0, 0, 0, 1, 0, 0, 0, 0, 0, 0, 0],\n",
              "       [0, 0, 0, 1, 1, 1, 1, 1, 1, 1, 1, 1, 0, 0, 0],\n",
              "       [0, 0, 1, 1, 1, 1, 1, 1, 1, 1, 1, 1, 1, 0, 0],\n",
              "       [0, 1, 1, 1, 1, 1, 1, 1, 1, 1, 1, 1, 1, 1, 0],\n",
              "       [0, 1, 1, 1, 1, 1, 1, 1, 1, 1, 1, 1, 1, 1, 0],\n",
              "       [1, 1, 1, 1, 1, 1, 1, 1, 1, 1, 1, 1, 1, 1, 1],\n",
              "       [1, 1, 1, 1, 1, 1, 1, 1, 1, 1, 1, 1, 1, 1, 1],\n",
              "       [1, 1, 1, 1, 1, 1, 1, 1, 1, 1, 1, 1, 1, 1, 1],\n",
              "       [1, 1, 1, 1, 1, 1, 1, 1, 1, 1, 1, 1, 1, 1, 1],\n",
              "       [1, 1, 1, 1, 1, 1, 1, 1, 1, 1, 1, 1, 1, 1, 1],\n",
              "       [0, 1, 1, 1, 1, 1, 1, 1, 1, 1, 1, 1, 1, 1, 0],\n",
              "       [0, 1, 1, 1, 1, 1, 1, 1, 1, 1, 1, 1, 1, 1, 0],\n",
              "       [0, 0, 1, 1, 1, 1, 1, 1, 1, 1, 1, 1, 1, 0, 0],\n",
              "       [0, 0, 0, 1, 1, 1, 1, 1, 1, 1, 1, 1, 0, 0, 0],\n",
              "       [0, 0, 0, 0, 0, 0, 0, 1, 0, 0, 0, 0, 0, 0, 0]], dtype=uint8)"
            ]
          },
          "metadata": {},
          "execution_count": 25
        }
      ]
    },
    {
      "cell_type": "markdown",
      "metadata": {
        "id": "Vr6f1mpUxKqC"
      },
      "source": [
        "# **Criando funções de operações morforlógicas**"
      ]
    },
    {
      "cell_type": "code",
      "metadata": {
        "id": "1wQnnS71_Uwg"
      },
      "source": [
        "#Implementação da função de dilação\n",
        "def dilate(image, structure_element, contoursImg):\n",
        "  imageDilate = image\n",
        "\n",
        "  c = int(len(structure_element)/2)\n",
        "\n",
        "  for i in range(len(imageDilate)):\n",
        "    for j in range(len(imageDilate[0])):\n",
        "      if (contoursImg[i,j]==255):\n",
        "        \n",
        "        for k in range(len(structure_element)):\n",
        "          for x in range(len(structure_element[0])):\n",
        "            if (structure_element[k, x] != 0):\n",
        "              try:\n",
        "\n",
        "                imageDilate[i+k-c, j+k-c] = 255\n",
        "              except:\n",
        "                pass\n",
        "  return imageDilate\n",
        "\n",
        "#Implementação da função de erosão\n",
        "def erode(image, structure_element, contourImg):\n",
        "  imageErode = image\n",
        "\n",
        "  c = int(len(structure_element)/2)\n",
        "\n",
        "  for i in range(len(imageErode)):\n",
        "    for j in range(len(imageErode[0])):\n",
        "      if (contourImg[i,j]==255):\n",
        "        \n",
        "        for k in range(len(structure_element)):\n",
        "          for x in range(len(structure_element[0])):\n",
        "            if (structure_element[k, x] != 0):\n",
        "              try:\n",
        "\n",
        "                imageErode[i+k-c, j+k-c] = 0\n",
        "              except:\n",
        "                pass\n",
        "  return imageErode\n",
        "\n",
        "#Implementação da função de abertura\n",
        "def opening(image, structure_element, contourImg):\n",
        "  imageCopy = np.copy(image)\n",
        "  imageErode = erode(imageCopy, structure_element, contourImg)\n",
        "  contourNew = genarateImageContour(imageErode)\n",
        "  imageOpening = dilate(imageErode, structure_element, contourNew)\n",
        "\n",
        "  return imageOpening;\n",
        "\n",
        "#Implementação da função de fechamento\n",
        "def closing(image, structure_element, contourImg):\n",
        "  imageCopy = np.copy(image)\n",
        "  imageDilate = dilate(imageCopy, structure_element, contourImg) \n",
        "  contourNew = genarateImageContour(imageDilate)\n",
        "  imageClosing = erode(imageDilate, structure_element, contourNew)\n",
        "\n",
        "  return imageClosing\n",
        "\n"
      ],
      "execution_count": 26,
      "outputs": []
    },
    {
      "cell_type": "markdown",
      "metadata": {
        "id": "FKizaocaxC5W"
      },
      "source": [
        "# **Aplicando operações morfológicas**"
      ]
    },
    {
      "cell_type": "code",
      "metadata": {
        "colab": {
          "base_uri": "https://localhost:8080/",
          "height": 157
        },
        "id": "_QqaofB4FRJU",
        "outputId": "37b6c2bf-4ac4-4b7b-c577-b03367f09af2"
      },
      "source": [
        "#Aplicação da função de dilatação\n",
        "imageDilate = dilate(imageBinary, structure_element, imageContourn)\n",
        "cv2_imshow(imageDilate)"
      ],
      "execution_count": 27,
      "outputs": [
        {
          "output_type": "display_data",
          "data": {
            "image/png": "[encoded data removed]",
            "text/plain": [
              "<PIL.Image.Image image mode=L size=305x140 at 0x7FF686FEBB90>"
            ]
          },
          "metadata": {}
        }
      ]
    },
    {
      "cell_type": "code",
      "metadata": {
        "colab": {
          "base_uri": "https://localhost:8080/",
          "height": 157
        },
        "id": "9zp2PZk0Hiy6",
        "outputId": "3c6e31df-773b-4009-8fdf-11ae78912a71"
      },
      "source": [
        "#Aplicação da função de erosão\n",
        "imageErode = erode(imageBinary, structure_element, imageContourn)\n",
        "cv2_imshow(imageErode)"
      ],
      "execution_count": 28,
      "outputs": [
        {
          "output_type": "display_data",
          "data": {
            "image/png": "[encoded data removed]",
            "text/plain": [
              "<PIL.Image.Image image mode=L size=305x140 at 0x7FF68754A810>"
            ]
          },
          "metadata": {}
        }
      ]
    },
    {
      "cell_type": "code",
      "metadata": {
        "colab": {
          "base_uri": "https://localhost:8080/",
          "height": 157
        },
        "id": "fHtFAIB5Mjr4",
        "outputId": "22a17487-e824-4706-fcf4-7f12803fb43e"
      },
      "source": [
        "#Aplicação da função de abertura\n",
        "imageOpening = opening(imageBinary, structure_element, imageContourn)\n",
        "cv2_imshow(imageOpening)"
      ],
      "execution_count": 29,
      "outputs": [
        {
          "output_type": "display_data",
          "data": {
            "image/png": "[encoded data removed]",
            "text/plain": [
              "<PIL.Image.Image image mode=L size=305x140 at 0x7FF6A4EEB210>"
            ]
          },
          "metadata": {}
        }
      ]
    },
    {
      "cell_type": "code",
      "metadata": {
        "colab": {
          "base_uri": "https://localhost:8080/",
          "height": 157
        },
        "id": "sMepG90ZMzRk",
        "outputId": "cd2fdf5b-03bb-4668-a5d6-df5494e30de2"
      },
      "source": [
        "#Aplicação da função de fechamento\n",
        "imageClosing = closing(imageBinary, structure_element, imageContourn)\n",
        "cv2_imshow(imageClosing)"
      ],
      "execution_count": 30,
      "outputs": [
        {
          "output_type": "display_data",
          "data": {
            "image/png": "[encoded data removed]",
            "text/plain": [
              "<PIL.Image.Image image mode=L size=305x140 at 0x7FF686F6ACD0>"
            ]
          },
          "metadata": {}
        }
      ]
    },
    {
      "cell_type": "markdown",
      "metadata": {
        "id": "g8zltqUZ3h5-"
      },
      "source": [
        "# Vídeo explicativo do trabalho:"
      ]
    },
    {
      "cell_type": "markdown",
      "metadata": {
        "id": "vkr9Pnwd3l3a"
      },
      "source": [
        "Link: [Vídeo Explicativo ](https://youtu.be/phvrG7TJUFo)"
      ]
    }
  ]
}